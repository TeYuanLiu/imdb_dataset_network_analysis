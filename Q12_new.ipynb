{
 "cells": [
  {
   "cell_type": "markdown",
   "metadata": {},
   "source": [
    "# Q12"
   ]
  },
  {
   "cell_type": "code",
   "execution_count": 3,
   "metadata": {},
   "outputs": [],
   "source": [
    "import pandas as pd\n",
    "import os, pickle\n",
    "import string\n",
    "import re\n",
    "import numpy as np\n",
    "from tqdm import tqdm as timer\n",
    "from sklearn import linear_model\n",
    "import sklearn.metrics as mcs\n",
    "from collections import defaultdict\n",
    "import time"
   ]
  },
  {
   "cell_type": "code",
   "execution_count": 4,
   "metadata": {},
   "outputs": [
    {
     "ename": "TypeError",
     "evalue": "'encoding' is an invalid keyword argument for this function",
     "output_type": "error",
     "traceback": [
      "\u001b[0;31m---------------------------------------------------------------------------\u001b[0m",
      "\u001b[0;31mTypeError\u001b[0m                                 Traceback (most recent call last)",
      "\u001b[0;32m<ipython-input-4-e44910f1fa31>\u001b[0m in \u001b[0;36m<module>\u001b[0;34m()\u001b[0m\n\u001b[1;32m      5\u001b[0m \u001b[0mline_count\u001b[0m \u001b[0;34m=\u001b[0m \u001b[0;36m0\u001b[0m\u001b[0;34m\u001b[0m\u001b[0m\n\u001b[1;32m      6\u001b[0m \u001b[0;34m\u001b[0m\u001b[0m\n\u001b[0;32m----> 7\u001b[0;31m \u001b[0;32mwith\u001b[0m \u001b[0mopen\u001b[0m\u001b[0;34m(\u001b[0m\u001b[0mfname\u001b[0m\u001b[0;34m,\u001b[0m \u001b[0mencoding\u001b[0m\u001b[0;34m=\u001b[0m\u001b[0;34m\"ISO-8859-1\"\u001b[0m\u001b[0;34m)\u001b[0m \u001b[0;32mas\u001b[0m \u001b[0mfin\u001b[0m\u001b[0;34m:\u001b[0m\u001b[0;34m\u001b[0m\u001b[0m\n\u001b[0m\u001b[1;32m      8\u001b[0m     \u001b[0;32mfor\u001b[0m \u001b[0mline\u001b[0m \u001b[0;32min\u001b[0m \u001b[0mfin\u001b[0m\u001b[0;34m:\u001b[0m\u001b[0;34m\u001b[0m\u001b[0m\n\u001b[1;32m      9\u001b[0m         \u001b[0mline_count\u001b[0m \u001b[0;34m+=\u001b[0m \u001b[0;36m1\u001b[0m\u001b[0;34m\u001b[0m\u001b[0m\n",
      "\u001b[0;31mTypeError\u001b[0m: 'encoding' is an invalid keyword argument for this function"
     ]
    }
   ],
   "source": [
    "fname = \"movie_genre.txt\"\n",
    "\n",
    "start = time.time()\n",
    "movie_genre_dict = {}\n",
    "line_count = 0\n",
    "\n",
    "with open(fname, encoding=\"ISO-8859-1\") as fin:\n",
    "    for line in fin:\n",
    "        line_count += 1\n",
    "        obj_list = re.split(r\"\\t+\", line) ############# change to \\t        \n",
    "\n",
    "        obj = obj_list[0]\n",
    "\n",
    "        p1 = re.search(r\"\\((\\d{4}|\\?{4})[^()]*\\)(.+)\", obj)\n",
    "        if p1:\n",
    "            obj = obj.replace(p1.group(2),\"\")\n",
    "            movie_genre_dict[obj]=obj_list[1]\n",
    "        else:\n",
    "            p2 = re.search(r\"\\((\\d{4}|\\?{4})[^()]*\\)\", obj)\n",
    "            if not p2:\n",
    "                obj = obj + \" (????)\"\n",
    "            movie_genre_dict[obj]=obj_list[1]\n",
    "\n",
    "\n",
    "with open(\"movie_genre_clean.txt\", \"w\", encoding=\"utf-8\") as outfile:\n",
    "    for k, v in movie_genre_dict.items():\n",
    "        outfile.write(\"%s\\t%s\" %(k, v)) "
   ]
  },
  {
   "cell_type": "code",
   "execution_count": 2,
   "metadata": {},
   "outputs": [],
   "source": [
    "def clean_string(s):\n",
    "    return(re.sub(r'\\(.*\\)|\\{.*\\}|\\'|\\\"', \"\", s).lstrip().rstrip())"
   ]
  },
  {
   "cell_type": "code",
   "execution_count": 3,
   "metadata": {},
   "outputs": [
    {
     "name": "stderr",
     "output_type": "stream",
     "text": [
      "movie_rating.txt: 100%|██████████| 348547/348547 [00:05<00:00, 66843.22it/s]\n"
     ]
    }
   ],
   "source": [
    "m2r = {}\n",
    "printable = set(string.printable)\n",
    "\n",
    "with open ('./movie_rating.txt') as infile:\n",
    "    for line in timer(infile, total=348547, desc='movie_rating.txt'):\n",
    "        line = filter(lambda x : x in printable, line.strip().translate(None, \"&$ \"))\n",
    "        arr = line.split('\\t\\t')\n",
    "        m2r[clean_string(arr[0])] = arr[1]\n",
    "        \n",
    "pickle.dump(m2r, open(\"m2r_.pkl\", \"wb\" ))\n",
    "\n",
    "M2R = pd.DataFrame(m2r.items(), columns=['movie', 'rating'])\n",
    "M2R.to_pickle(\"M2R.pkl\")"
   ]
  },
  {
   "cell_type": "code",
   "execution_count": 4,
   "metadata": {},
   "outputs": [
    {
     "name": "stderr",
     "output_type": "stream",
     "text": [
      "director_movies.txt: 389663it [00:11, 33662.73it/s]                            \n"
     ]
    }
   ],
   "source": [
    "m2d = {}\n",
    "printable = set(string.printable)\n",
    "\n",
    "with open ('./director_movies.txt') as infile:\n",
    "    for line in timer(infile, total=348547, desc='director_movies.txt'):\n",
    "        line = filter(lambda x : x in printable, line.strip().translate(None, \"&$ \"))\n",
    "        arr = line.split('\\t\\t')\n",
    "        for movie in arr[1:]:\n",
    "            m2d[clean_string(movie)] = arr[0]\n",
    "\n",
    "pickle.dump(m2d, open(\"m2d_.pkl\", \"wb\" ))\n",
    "                      \n",
    "M2D = pd.DataFrame(m2d.items(), columns=['movie', 'director'])\n",
    "M2D.to_pickle(\"M2D.pkl\")"
   ]
  },
  {
   "cell_type": "code",
   "execution_count": 5,
   "metadata": {},
   "outputs": [],
   "source": [
    "M2R2D = pd.merge(M2R, M2D, how='inner')"
   ]
  },
  {
   "cell_type": "code",
   "execution_count": 6,
   "metadata": {},
   "outputs": [],
   "source": [
    "#print M2R2D"
   ]
  },
  {
   "cell_type": "code",
   "execution_count": 7,
   "metadata": {},
   "outputs": [],
   "source": [
    "M2R2D[['rating']] = M2R2D[['rating']].apply(pd.to_numeric)"
   ]
  },
  {
   "cell_type": "code",
   "execution_count": 8,
   "metadata": {},
   "outputs": [
    {
     "name": "stderr",
     "output_type": "stream",
     "text": [
      "100%|██████████| 98766/98766 [42:28<00:00, 38.76it/s]\n"
     ]
    }
   ],
   "source": [
    "DR = M2R2D.groupby(['director'])\n",
    "D2R = pd.DataFrame(index=range(0,len(M2R2D.director.unique())), columns=['director', 'rating'])\n",
    "    \n",
    "count = 0\n",
    "for name, group in timer(DR):\n",
    "    D2R.loc[[count],'director'] = name\n",
    "    D2R.loc[[count],'rating'] = group['rating'].mean()\n",
    "    count += 1"
   ]
  },
  {
   "cell_type": "code",
   "execution_count": 9,
   "metadata": {},
   "outputs": [],
   "source": [
    "D2R.to_pickle(\"D2R.pkl\")"
   ]
  },
  {
   "cell_type": "code",
   "execution_count": 10,
   "metadata": {},
   "outputs": [],
   "source": [
    "d2r = list(D2R.set_index('director').to_dict().values()).pop()\n",
    "pickle.dump(d2r, open(\"d2r_.pkl\", \"wb\" ))"
   ]
  },
  {
   "cell_type": "code",
   "execution_count": 11,
   "metadata": {},
   "outputs": [
    {
     "data": {
      "text/plain": [
       "6.1"
      ]
     },
     "execution_count": 11,
     "metadata": {},
     "output_type": "execute_result"
    }
   ],
   "source": [
    "d2r[\"zuyar,Ali\"]"
   ]
  },
  {
   "cell_type": "markdown",
   "metadata": {},
   "source": [
    "### Actor/Actress clean"
   ]
  },
  {
   "cell_type": "code",
   "execution_count": 12,
   "metadata": {},
   "outputs": [
    {
     "name": "stderr",
     "output_type": "stream",
     "text": [
      "actor_movies.txt: 100%|██████████| 2167653/2167653 [00:29<00:00, 72793.24it/s]\n",
      "actress_movies.txt: 100%|██████████| 1182813/1182813 [00:14<00:00, 82333.64it/s]\n"
     ]
    }
   ],
   "source": [
    "infiles = [\"./actor_movies.txt\", \"./actress_movies.txt\"]\n",
    "printable = set(string.printable)\n",
    "fl = {\"./actor_movies.txt\": 2167653, \"./actress_movies.txt\": 1182813}\n",
    "\n",
    "a2m = defaultdict(set)\n",
    "m2a = defaultdict(set)\n",
    "\n",
    "for f in infiles:\n",
    "    with open(f, \"rb\") as infile:\n",
    "        for line in timer(infile, total=fl[f], desc=f.split('/')[1]):\n",
    "            if line.count(\"\\t\\t\") <= 10:\n",
    "                continue\n",
    "            line = filter(lambda x : x in printable, line.strip().translate(None, \"&$ \"))\n",
    "            arr = line.split(\"\\t\\t\")\n",
    "            \n",
    "            actor = arr[0]\n",
    "            movies = map(clean_string, arr[1:])\n",
    "            \n",
    "            for m in movies:\n",
    "                a2m[actor].add(m)\n",
    "                m2a[m].add(actor)\n",
    "                \n",
    "large_movies = set(filter(lambda x : len(m2a[x]) > 10, m2a.keys()))\n",
    "a2m = {actor : movies.intersection(large_movies) for (actor, movies) in a2m.iteritems()}\n",
    "a2m = {actor : movies for (actor, movies) in a2m.iteritems() if len(movies) > 0}\n",
    "m2a = {movie : actors for (movie, actors) in m2a.iteritems() if len(actors) > 10}\n",
    "\n",
    "pickle.dump(a2m, open(\"a2m_.pkl\", \"wb\" ))\n",
    "pickle.dump(m2a, open(\"m2a_.pkl\", \"wb\" ))"
   ]
  },
  {
   "cell_type": "code",
   "execution_count": 13,
   "metadata": {},
   "outputs": [],
   "source": [
    "A2M = pd.DataFrame(a2m.items(), columns=['actor', 'movie'])\n",
    "M2A = pd.DataFrame(m2a.items(), columns=['movie', 'actor'])\n",
    "A2M.to_pickle(\"A2M.pkl\")\n",
    "M2A.to_pickle(\"M2A.pkl\")"
   ]
  },
  {
   "cell_type": "markdown",
   "metadata": {},
   "source": [
    "### Actor pagerank"
   ]
  },
  {
   "cell_type": "code",
   "execution_count": 14,
   "metadata": {},
   "outputs": [],
   "source": [
    "from igraph import *"
   ]
  },
  {
   "cell_type": "code",
   "execution_count": 15,
   "metadata": {},
   "outputs": [
    {
     "name": "stderr",
     "output_type": "stream",
     "text": [
      "100%|██████████| 99652/99652 [02:57<00:00, 562.28it/s]"
     ]
    },
    {
     "name": "stdout",
     "output_type": "stream",
     "text": [
      "42135556\n"
     ]
    },
    {
     "name": "stderr",
     "output_type": "stream",
     "text": [
      "\n"
     ]
    }
   ],
   "source": [
    "# create actor edge list\n",
    "count = 0\n",
    "outfile = open(\"actor_edgelist.txt\", \"w\")\n",
    "\n",
    "for i, movies in timer(a2m.iteritems(), total=len(a2m)):\n",
    "    # for an actor i, get the list of actors that appear in the same movie\n",
    "    i2k = defaultdict(int)\n",
    "    for j in movies:\n",
    "        for k in m2a[j]:\n",
    "            i2k[k]=i2k[k]+1\n",
    "    for k, w in i2k.iteritems():\n",
    "        weight = float(w) / len(movies)\n",
    "        line = i + '\\t' + k + '\\t' + str(weight) + '\\n'\n",
    "        outfile.write(line)\n",
    "        count = count + 1\n",
    "outfile.close()\n",
    "print(count)"
   ]
  },
  {
   "cell_type": "code",
   "execution_count": 16,
   "metadata": {},
   "outputs": [],
   "source": [
    "g = Graph.Read_Ncol('actor_edgelist.txt', directed=True)"
   ]
  },
  {
   "cell_type": "code",
   "execution_count": 17,
   "metadata": {},
   "outputs": [],
   "source": [
    "page_rank = g.pagerank(vertices=None, directed=True)\n",
    "a2pr = {}\n",
    "for idx, v in enumerate(g.vs):\n",
    "    a2pr[v[\"name\"]] = page_rank[idx]"
   ]
  },
  {
   "cell_type": "code",
   "execution_count": 18,
   "metadata": {},
   "outputs": [],
   "source": [
    "pickle.dump(a2pr, open(\"a2pr_.pkl\", \"wb\" ))\n",
    "A2PR = pd.DataFrame(a2pr.items(), columns=['actor', 'pagerank'])\n",
    "A2PR.to_pickle(\"A2PR.pkl\")"
   ]
  },
  {
   "cell_type": "markdown",
   "metadata": {},
   "source": [
    "### Build features"
   ]
  },
  {
   "cell_type": "code",
   "execution_count": 28,
   "metadata": {},
   "outputs": [],
   "source": [
    "A2PR = pd.read_pickle(\"A2PR.pkl\")\n",
    "A2M = pd.read_pickle(\"A2M.pkl\")\n",
    "M2A = pd.read_pickle(\"M2A.pkl\")\n",
    "M2D = pd.read_pickle(\"M2D.pkl\")\n",
    "M2R = pd.read_pickle(\"M2R.pkl\")\n",
    "D2R = pd.read_pickle(\"D2R.pkl\")\n",
    "\n",
    "M2R = M2R.drop([0])\n",
    "\n",
    "movie_with_AR = pd.merge(M2A, M2R, how='inner')\n",
    "movie_with_ARD = pd.merge(movie_with_AR, M2D, how='inner')\n",
    "avail_movies = movie_with_ARD['movie'].values\n",
    "pickle.dump(avail_movies, open(\"avail_movies.pkl\", \"wb\"))"
   ]
  },
  {
   "cell_type": "code",
   "execution_count": 32,
   "metadata": {},
   "outputs": [],
   "source": [
    "a2m = pickle.load(open(\"a2m_.pkl\", \"rb\" ))\n",
    "m2a = pickle.load(open(\"m2a_.pkl\", \"rb\" ))\n",
    "a2pr = pickle.load(open(\"a2pr_.pkl\", \"rb\" ))\n",
    "d2r = pickle.load(open(\"d2r_.pkl\", \"rb\" ))\n",
    "m2d = pickle.load(open(\"m2d_.pkl\", \"rb\" ))\n",
    "avail_movies = pickle.load(open(\"avail_movies.pkl\", \"rb\"))"
   ]
  },
  {
   "cell_type": "code",
   "execution_count": 40,
   "metadata": {},
   "outputs": [
    {
     "name": "stderr",
     "output_type": "stream",
     "text": [
      "100%|██████████| 74678/74678 [00:02<00:00, 30085.77it/s]\n"
     ]
    }
   ],
   "source": [
    "def build_feature(movie):\n",
    "    features = [0] * 7\n",
    "    actors = m2a[movie]\n",
    "    page_ranks = []\n",
    "    for actor in actors:\n",
    "        page_ranks.append(a2pr[actor])\n",
    "    sorted_page_ranks = sorted(page_ranks, reverse=True)\n",
    "    features[:6] = sorted_page_ranks[:6]\n",
    "    \n",
    "    features[6] = d2r[m2d[movie]]\n",
    "\n",
    "    return np.array(features)\n",
    "\n",
    "feature_vector = np.vstack(map(build_feature, timer(avail_movies)))"
   ]
  },
  {
   "cell_type": "code",
   "execution_count": 41,
   "metadata": {},
   "outputs": [
    {
     "name": "stderr",
     "output_type": "stream",
     "text": [
      "100%|██████████| 74678/74678 [00:00<00:00, 412580.76it/s]\n"
     ]
    }
   ],
   "source": [
    "actual_rating = []\n",
    "for movie in timer(avail_movies):\n",
    "    actual_rating.append(float(m2r[movie]))\n",
    "rating_vector = np.array(actual_rating)"
   ]
  },
  {
   "cell_type": "markdown",
   "metadata": {},
   "source": [
    "### Linear Regression model training"
   ]
  },
  {
   "cell_type": "code",
   "execution_count": 42,
   "metadata": {},
   "outputs": [
    {
     "data": {
      "text/plain": [
       "LinearRegression(copy_X=True, fit_intercept=True, n_jobs=1, normalize=False)"
      ]
     },
     "execution_count": 42,
     "metadata": {},
     "output_type": "execute_result"
    }
   ],
   "source": [
    "model = linear_model.LinearRegression()\n",
    "model.fit(feature_vector, rating_vector)"
   ]
  },
  {
   "cell_type": "code",
   "execution_count": 43,
   "metadata": {},
   "outputs": [],
   "source": [
    "test_movies = [\n",
    "    \"Batman v Superman: Dawn of Justice (2016)\",\n",
    "    \"Mission: Impossible - Rogue Nation (2015)\",\n",
    "    \"Minions (2015)\"\n",
    "]\n",
    "clean_test_movies = []\n",
    "for movie in test_movies:\n",
    "    clean_test_movies.append(clean_string(movie.translate(None, \"&$ \")))"
   ]
  },
  {
   "cell_type": "code",
   "execution_count": 44,
   "metadata": {},
   "outputs": [
    {
     "data": {
      "text/plain": [
       "array([7.01318827, 6.80856276, 6.69704493])"
      ]
     },
     "execution_count": 44,
     "metadata": {},
     "output_type": "execute_result"
    }
   ],
   "source": [
    "test_feature_vector = map(build_feature, clean_test_movies)\n",
    "model.predict(test_feature_vector)"
   ]
  },
  {
   "cell_type": "markdown",
   "metadata": {},
   "source": [
    "### RMSE"
   ]
  },
  {
   "cell_type": "code",
   "execution_count": 45,
   "metadata": {},
   "outputs": [],
   "source": [
    "prediction = model.predict(feature_vector)"
   ]
  },
  {
   "cell_type": "code",
   "execution_count": 46,
   "metadata": {},
   "outputs": [
    {
     "data": {
      "text/plain": [
       "0.7090275567049534"
      ]
     },
     "execution_count": 46,
     "metadata": {},
     "output_type": "execute_result"
    }
   ],
   "source": [
    "mcs.mean_squared_error(rating_vector, prediction)"
   ]
  },
  {
   "cell_type": "code",
   "execution_count": null,
   "metadata": {},
   "outputs": [],
   "source": []
  }
 ],
 "metadata": {
  "kernelspec": {
   "display_name": "Python 2",
   "language": "python",
   "name": "python2"
  },
  "language_info": {
   "codemirror_mode": {
    "name": "ipython",
    "version": 2
   },
   "file_extension": ".py",
   "mimetype": "text/x-python",
   "name": "python",
   "nbconvert_exporter": "python",
   "pygments_lexer": "ipython2",
   "version": "2.7.9"
  }
 },
 "nbformat": 4,
 "nbformat_minor": 2
}
