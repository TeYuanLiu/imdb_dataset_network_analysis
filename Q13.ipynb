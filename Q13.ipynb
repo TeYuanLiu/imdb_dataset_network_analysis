{
 "cells": [
  {
   "cell_type": "code",
   "execution_count": 1,
   "metadata": {},
   "outputs": [],
   "source": [
    "import pandas as pd\n",
    "import os, pickle\n",
    "import string\n",
    "import re\n",
    "import numpy as np\n",
    "from sklearn import linear_model\n",
    "import sklearn.metrics as mcs\n",
    "from collections import defaultdict\n",
    "import time\n",
    "from tqdm import tqdm as timer"
   ]
  },
  {
   "cell_type": "markdown",
   "metadata": {},
   "source": [
    "### Director rating dictionary"
   ]
  },
  {
   "cell_type": "code",
   "execution_count": 2,
   "metadata": {},
   "outputs": [],
   "source": [
    "cast_movie_dict = pickle.load(open(\"cast_movie_dict.pkl\", \"rb\" ))\n",
    "movie_rating_dict = pickle.load(open(\"movie_rating_dict.pkl\", \"rb\" ))"
   ]
  },
  {
   "cell_type": "code",
   "execution_count": 3,
   "metadata": {},
   "outputs": [
    {
     "name": "stderr",
     "output_type": "stream",
     "text": [
      "100%|██████████| 113129/113129 [00:16<00:00, 6846.95it/s]\n"
     ]
    }
   ],
   "source": [
    "outfile = open(\"actor_movie_edgelist.txt\", \"w\")\n",
    "\n",
    "cast_avg_rating_dict = {}\n",
    "for i, movies in timer(cast_movie_dict.items(), total=len(cast_movie_dict)):\n",
    "    sum_rating = 0\n",
    "    count = 0\n",
    "    for j in movies:\n",
    "        if j in movie_rating_dict:\n",
    "            sum_rating += float(movie_rating_dict[j])\n",
    "            count += 1\n",
    "        else:\n",
    "            pass\n",
    "    if count > 0:\n",
    "        weight = sum_rating/count\n",
    "        cast_avg_rating_dict[i] = weight\n",
    "        for k in movies:\n",
    "            line = i + '\\t' + k + '\\t' + str(weight) + '\\n'\n",
    "            outfile.write(line)\n",
    "\n",
    "outfile.close()\n",
    "pickle.dump(cast_avg_rating_dict, open(\"cast_avg_rating_dict.pkl\", \"wb\"))"
   ]
  },
  {
   "cell_type": "code",
   "execution_count": 8,
   "metadata": {},
   "outputs": [
    {
     "name": "stdout",
     "output_type": "stream",
     "text": [
      "                           actor    rating\n",
      "0                      $hort,Too  6.511111\n",
      "1                      2LiveCrew  5.900000\n",
      "2                         50Cent  6.003226\n",
      "3                      A.,Sergey  7.588462\n",
      "4                      A.S.,Alwi  2.000000\n",
      "5                  A.V.,SubbaRao  6.822222\n",
      "6                   Aabel,Per(I)  6.287500\n",
      "7                      Aaker,Lee  6.616667\n",
      "8                 Aaltonen,Kosti  5.547059\n",
      "9                  Aaltonen,Remu  5.611111\n",
      "10                Aaltonen,Risto  5.455556\n",
      "11            Aamodt,ThorMichael  5.211111\n",
      "12                Aanensen,Peter  6.353846\n",
      "13                  AaronII,Tony  5.740000\n",
      "14                    Aaron,Aash  5.477778\n",
      "15                Aaron,Mark(II)  7.471429\n",
      "16                Aaron,Nicholas  5.981818\n",
      "17                 Aaron,Quinton  5.691667\n",
      "18                         Aarya  6.364286\n",
      "19                      Aas,Arne  5.390000\n",
      "20                    Aasen,John  6.572727\n",
      "21                    Aasie,C.S.  6.155556\n",
      "22                      Aav,Tõnu  6.481250\n",
      "23               Aavajoki,Kaarlo  5.490909\n",
      "24                   Aavik,Evald  7.022222\n",
      "25                 Abadal,Ignasi  6.037500\n",
      "26                  Abadeza,Rene  4.933333\n",
      "27                 Abadi,Ebrahim  5.230769\n",
      "28               Abadia,Lysander  6.744444\n",
      "29               Abadie,Fernando  6.300000\n",
      "...                          ...       ...\n",
      "111131             Ôtori,Yachiyo  6.860000\n",
      "111132             Ôtsuka,Kimiyo  7.109091\n",
      "111133            Ôtsuka,Michiko  6.783333\n",
      "111134              Ôzora,Mayumi  6.908333\n",
      "111135               Öberg,Brita  5.006061\n",
      "111136         Öhrström,Gunbritt  5.210000\n",
      "111137               Ökten,Güler  6.360606\n",
      "111138              Ölvedy,Zsóka  6.466667\n",
      "111139               Örkényi,Éva  6.866667\n",
      "111140                  Öz,Benan  5.978947\n",
      "111141                   Öz,Jale  5.968750\n",
      "111142                Özcan,Sema  5.423077\n",
      "111143        Özdemiroglu,Yaprak  5.892308\n",
      "111144                Özden,Emel  5.540000\n",
      "111145                Özen,Tülin  6.491667\n",
      "111146                 Özen,Ülkü  5.800000\n",
      "111147               Özer,Sükran  7.600000\n",
      "111148              Özipek,Güzin  5.771154\n",
      "111149              Özses,Nermin  6.076923\n",
      "111150               Öztan,Bahar  4.790476\n",
      "111151              Öztürk,Leman  5.427273\n",
      "111152           Ølgaard,JulieR.  5.784615\n",
      "111153                 Øst,Tammi  5.675000\n",
      "111154                Østø,Clara  5.806250\n",
      "111155                Ülker,Ülkü  6.283333\n",
      "111156                 Üner,Idil  6.680000\n",
      "111157                Ünsal,Tuba  4.250000\n",
      "111158            Üstüntas,Zuhal  5.943750\n",
      "111159             Üupala,Préity  6.300000\n",
      "111160  Þorvaldsdóttir,Herdís(I)  6.672727\n",
      "\n",
      "[111161 rows x 2 columns]\n"
     ]
    }
   ],
   "source": [
    "A2R = pd.DataFrame(list(cast_rating_dict.items()), columns=['actor', 'rating'])\n",
    "print (A2R)"
   ]
  },
  {
   "cell_type": "code",
   "execution_count": 6,
   "metadata": {},
   "outputs": [],
   "source": [
    "cast_avg_rating_dict = pickle.load(open(\"cast_avg_rating_dict.pkl\", \"rb\" ))\n",
    "movie_cast_dict = pickle.load(open(\"movie_cast_dict.pkl\", \"rb\" ))\n",
    "movie_rating_dict = pickle.load(open(\"movie_rating_dict.pkl\", \"rb\" ))\n",
    "movie_director_dict = pickle.load(open(\"movie_director_dict.pkl\", \"rb\" ))\n",
    "training_movies = pickle.load(open(\"training_movies.pkl\", \"rb\" ))"
   ]
  },
  {
   "cell_type": "code",
   "execution_count": 7,
   "metadata": {},
   "outputs": [
    {
     "name": "stderr",
     "output_type": "stream",
     "text": [
      "100%|██████████| 83533/83533 [00:00<00:00, 368442.65it/s]\n"
     ]
    }
   ],
   "source": [
    "training_rating = []\n",
    "for movie in timer(training_movies):\n",
    "    training_rating.append(float(movie_rating_dict[movie]))\n",
    "rating_vector = np.array(training_rating)"
   ]
  },
  {
   "cell_type": "code",
   "execution_count": 8,
   "metadata": {},
   "outputs": [
    {
     "name": "stderr",
     "output_type": "stream",
     "text": [
      "100%|██████████| 83533/83533 [00:02<00:00, 38269.41it/s]\n"
     ]
    }
   ],
   "source": [
    "prediction = []\n",
    "def average_actor_rating(mv):\n",
    "    actors = movie_cast_dict[mv]\n",
    "    actor_ratings = 0\n",
    "    count = 0\n",
    "    for actor in actors:\n",
    "        if actor in cast_avg_rating_dict:\n",
    "            actor_ratings += float(cast_avg_rating_dict[actor])\n",
    "            count += 1\n",
    "    return (actor_ratings/count)\n",
    "\n",
    "for mv in timer(training_movies):\n",
    "    prediction.append(average_actor_rating(mv))"
   ]
  },
  {
   "cell_type": "code",
   "execution_count": 9,
   "metadata": {},
   "outputs": [
    {
     "data": {
      "text/plain": [
       "0.974611441307004"
      ]
     },
     "execution_count": 9,
     "metadata": {},
     "output_type": "execute_result"
    }
   ],
   "source": [
    "mcs.mean_squared_error(rating_vector, prediction)"
   ]
  },
  {
   "cell_type": "code",
   "execution_count": 10,
   "metadata": {},
   "outputs": [],
   "source": [
    "test_movies = [\n",
    "    \"Batman v Superman: Dawn of Justice (2016)\",\n",
    "    \"Mission: Impossible - Rogue Nation (2015)\",\n",
    "    \"Minions (2015)\"\n",
    "]"
   ]
  },
  {
   "cell_type": "code",
   "execution_count": 11,
   "metadata": {},
   "outputs": [
    {
     "name": "stdout",
     "output_type": "stream",
     "text": [
      "Batman v Superman: Dawn of Justice (2016): 6.50\n",
      "Mission: Impossible - Rogue Nation (2015): 6.49\n",
      "Minions (2015): 6.87\n"
     ]
    }
   ],
   "source": [
    "prediction_test_movie = []\n",
    "for mv in test_movies:\n",
    "    prediction_test_movie.append(float(average_actor_rating(mv)))\n",
    "    print (\"%s: %.2f\" %(mv,average_actor_rating(mv)))"
   ]
  },
  {
   "cell_type": "code",
   "execution_count": 12,
   "metadata": {},
   "outputs": [
    {
     "data": {
      "text/plain": [
       "0.35329849383673384"
      ]
     },
     "execution_count": 12,
     "metadata": {},
     "output_type": "execute_result"
    }
   ],
   "source": [
    "real_rating_test = [6.6, 7.4, 6.4]\n",
    "mcs.mean_squared_error(real_rating_test, prediction_test_movie)"
   ]
  },
  {
   "cell_type": "code",
   "execution_count": 41,
   "metadata": {},
   "outputs": [
    {
     "name": "stderr",
     "output_type": "stream",
     "text": [
      "100%|██████████| 83533/83533 [00:02<00:00, 34696.14it/s]\n"
     ]
    },
    {
     "data": {
      "text/plain": [
       "3.1685789398511224"
      ]
     },
     "execution_count": 41,
     "metadata": {},
     "output_type": "execute_result"
    }
   ],
   "source": [
    "prediction = []\n",
    "def average_actor_rating(mv):\n",
    "    actors = movie_cast_dict[mv]\n",
    "    actor_ratings = 0\n",
    "    count = 0\n",
    "    for actor in actors:\n",
    "        if actor in cast_avg_rating_dict:\n",
    "            actor_ratings += float(cast_top_rating_dict[actor])\n",
    "            count += 1\n",
    "    return (actor_ratings/count)\n",
    "\n",
    "for mv in timer(training_movies):\n",
    "    prediction.append(average_actor_rating(mv))\n",
    "    \n",
    "mcs.mean_squared_error(rating_vector, prediction)"
   ]
  },
  {
   "cell_type": "code",
   "execution_count": 42,
   "metadata": {},
   "outputs": [
    {
     "name": "stdout",
     "output_type": "stream",
     "text": [
      "Batman v Superman: Dawn of Justice (2016): 7.42\n",
      "Mission: Impossible - Rogue Nation (2015): 7.49\n",
      "Minions (2015): 8.38\n"
     ]
    }
   ],
   "source": [
    "for mv in test_movies:\n",
    "    print (\"%s: %.2f\" %(mv,average_actor_rating(mv)))"
   ]
  },
  {
   "cell_type": "code",
   "execution_count": null,
   "metadata": {},
   "outputs": [],
   "source": []
  }
 ],
 "metadata": {
  "kernelspec": {
   "display_name": "Python 3",
   "language": "python",
   "name": "python3"
  },
  "language_info": {
   "codemirror_mode": {
    "name": "ipython",
    "version": 3
   },
   "file_extension": ".py",
   "mimetype": "text/x-python",
   "name": "python",
   "nbconvert_exporter": "python",
   "pygments_lexer": "ipython3",
   "version": "3.6.4"
  }
 },
 "nbformat": 4,
 "nbformat_minor": 2
}
